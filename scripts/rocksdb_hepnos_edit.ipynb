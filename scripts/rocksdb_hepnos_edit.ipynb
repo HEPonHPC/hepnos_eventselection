{
 "cells": [
  {
   "cell_type": "code",
   "execution_count": 1,
   "id": "ca4d58ee-b0f1-403c-a946-9e8f6b4226b8",
   "metadata": {},
   "outputs": [],
   "source": [
    "import os, json"
   ]
  },
  {
   "cell_type": "code",
   "execution_count": 2,
   "id": "6f67002e-06d5-47c7-bf13-7851708bf373",
   "metadata": {},
   "outputs": [],
   "source": [
    "with open(\"hepnos_rocksdb.json.in\") as f:\n",
    "    in_ = json.load(f) # in_ is now a dict!"
   ]
  },
  {
   "cell_type": "code",
   "execution_count": 3,
   "id": "ea1b7edf-bcef-40d0-b2be-5524e3602a40",
   "metadata": {},
   "outputs": [],
   "source": [
    "for provider_id in range(len(in_['providers'])):\n",
    "    for db_id in range(len(in_['providers'][provider_id]['config']['databases'])):\n",
    "        db_ = in_['providers'][provider_id]['config']['databases'][db_id]\n",
    "        db_['type'] = 'rocksdb'\n",
    "        db_['config']['path'] = \"/local/scratch/\" + str(db_['name'])\n",
    "        db_['config']['create_if_missing'] = bool(1)"
   ]
  },
  {
   "cell_type": "code",
   "execution_count": 4,
   "id": "3835dca0-a7a4-4093-b35b-17f29d353837",
   "metadata": {},
   "outputs": [],
   "source": [
    "out_ = json.dumps(in_, indent=4)\n",
    "with open('hepnos_rocksdb.json', 'w') as f:\n",
    "    f.write(out_)"
   ]
  }
 ],
 "metadata": {
  "kernelspec": {
   "display_name": "Python 3 (ipykernel)",
   "language": "python",
   "name": "python3"
  },
  "language_info": {
   "codemirror_mode": {
    "name": "ipython",
    "version": 3
   },
   "file_extension": ".py",
   "mimetype": "text/x-python",
   "name": "python",
   "nbconvert_exporter": "python",
   "pygments_lexer": "ipython3",
   "version": "3.10.4"
  }
 },
 "nbformat": 4,
 "nbformat_minor": 5
}
