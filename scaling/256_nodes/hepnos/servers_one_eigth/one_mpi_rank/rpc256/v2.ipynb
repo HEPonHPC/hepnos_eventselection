{
 "cells": [
  {
   "cell_type": "code",
   "execution_count": 1,
   "id": "28ba0971",
   "metadata": {},
   "outputs": [],
   "source": [
    "import numpy as np\n",
    "import matplotlib.pyplot as plt\n",
    "import matplotlib as mpl"
   ]
  },
  {
   "cell_type": "code",
   "execution_count": 2,
   "id": "82d3f6e6",
   "metadata": {},
   "outputs": [],
   "source": [
    "_es1929 = []\n",
    "_es3858 = []\n",
    "_es7716 = []"
   ]
  },
  {
   "cell_type": "code",
   "execution_count": 3,
   "id": "966dbcd9",
   "metadata": {},
   "outputs": [],
   "source": [
    "#################################\n",
    "## RAW TIMING DATA ##\n",
    "#################################\n",
    "\n",
    "#10_29_629030\n",
    "_es1929.append([108.19979000000001, 75.89949, 67.97999, 78.02801, 130.86379])\n",
    "_es1929.append([106.87614, 73.85595, 68.88799999999999, 77.42803])\n",
    "\n",
    "#10_29_629155\n",
    "_es1929.append([106.14826, 74.49995, 69.44548, 80.27597999999999, 132.01209999999998])\n",
    "_es1929.append([106.71149, 74.66797000000001, 69.95862, 82.2959])\n",
    "    \n",
    "#################################\n",
    "## COMBINE RAW DATA ##\n",
    "#################################\n",
    "          #8,16,32,64,128,256\n",
    "es1929 = [[],[],[],[],[],[]]\n",
    "\n",
    "es1929[0].append(0)\n",
    "\n",
    "for i in _es1929:\n",
    "    if len(i)>0:\n",
    "        es1929[1].append(i[0])\n",
    "    if len(i)>1:\n",
    "        es1929[2].append(i[1])\n",
    "    if len(i)>2:\n",
    "        es1929[3].append(i[2])\n",
    "    if len(i)>3:\n",
    "        es1929[4].append(i[3])\n",
    "    if len(i)>4:\n",
    "        es1929[5].append(i[4])\n",
    "        \n",
    "#################################\n",
    "## MEAN, MIN, MAX for plotting ##\n",
    "#################################\n",
    "means_1929 = []\n",
    "errs_1929_min  = []\n",
    "errs_1929_max  = []\n",
    "\n",
    "for i in range(6):\n",
    "    means_1929.append(np.mean(es1929[i]))\n",
    "    if len(es1929[i])<=1:\n",
    "        errs_1929_min.append(0)\n",
    "        errs_1929_max.append(0)\n",
    "    else:\n",
    "        errs_1929_min.append(np.mean(es1929[i]) - np.min(es1929[i]))\n",
    "        errs_1929_max.append(np.max(es1929[i]) - np.mean(es1929[i]))\n",
    "        \n",
    "means1929 = np.array(means_1929)\n",
    "errs1929 = np.zeros((2,6))\n",
    "errs1929[0,:] = errs_1929_min\n",
    "errs1929[1,:] = errs_1929_max"
   ]
  },
  {
   "cell_type": "code",
   "execution_count": 4,
   "id": "5dc732de",
   "metadata": {},
   "outputs": [
    {
     "name": "stderr",
     "output_type": "stream",
     "text": [
      "/Users/sasyed/Documents/packages/mambaforge/envs/py3/lib/python3.10/site-packages/numpy/core/fromnumeric.py:3432: RuntimeWarning: Mean of empty slice.\n",
      "  return _methods._mean(a, axis=axis, dtype=dtype,\n",
      "/Users/sasyed/Documents/packages/mambaforge/envs/py3/lib/python3.10/site-packages/numpy/core/_methods.py:190: RuntimeWarning: invalid value encountered in double_scalars\n",
      "  ret = ret.dtype.type(ret / rcount)\n"
     ]
    }
   ],
   "source": [
    "#################################\n",
    "## RAW TIMING DATA ##\n",
    "#################################\n",
    "\n",
    "#10_30_629239\n",
    "_es3858.append([208.92436, 145.12037, 127.99211, 126.90753000000001])\n",
    "#11_1_629470\n",
    "_es3858.append([207.91222000000002, 143.41145, 124.89321, 128.96392999999998])\n",
    "\n",
    "#################################\n",
    "## COMBINE RAW DATA ##\n",
    "#################################\n",
    "\n",
    "es3858 = [[],[],[],[],[],[]]\n",
    "\n",
    "es3858[0].append(0)\n",
    "\n",
    "for i in _es3858:\n",
    "    if len(i)>0:\n",
    "        es3858[1].append(i[0])\n",
    "    if len(i)>1:\n",
    "        es3858[2].append(i[1])\n",
    "    if len(i)>2:\n",
    "        es3858[3].append(i[2])\n",
    "    if len(i)>3:\n",
    "        es3858[4].append(i[3])\n",
    "    if len(i)>4:\n",
    "        es3858[5].append(i[4])\n",
    "        \n",
    "#################################\n",
    "## MEAN, MIN, MAX for plotting ##\n",
    "#################################\n",
    "means_3858 = []\n",
    "errs_3858_min  = []\n",
    "errs_3858_max  = []\n",
    "\n",
    "for i in range(6):\n",
    "    means_3858.append(np.mean(es3858[i]))\n",
    "    if len(es3858[i])<=1:\n",
    "        errs_3858_min.append(0)\n",
    "        errs_3858_max.append(0)\n",
    "    else:\n",
    "        errs_3858_min.append(np.mean(es3858[i]) - np.min(es3858[i]))\n",
    "        errs_3858_max.append(np.max(es3858[i]) - np.mean(es3858[i]))\n",
    "        \n",
    "means3858 = np.array(means_3858)\n",
    "errs3858 = np.zeros((2,6))\n",
    "errs3858[0,:] = errs_3858_min\n",
    "errs3858[1,:] = errs_3858_max"
   ]
  },
  {
   "cell_type": "code",
   "execution_count": 5,
   "id": "633a916b",
   "metadata": {},
   "outputs": [],
   "source": [
    "#################################\n",
    "## RAW TIMING DATA ##\n",
    "#################################\n",
    "\n",
    "#################################\n",
    "## COMBINE RAW DATA ##\n",
    "#################################\n",
    "\n",
    "es7716 = [[],[],[],[],[],[]]\n",
    "\n",
    "es7716[0].append(0)\n",
    "\n",
    "for i in _es7716:\n",
    "    if len(i)>0:\n",
    "        es7716[1].append(i[0])\n",
    "    if len(i)>1:\n",
    "        es7716[2].append(i[1])\n",
    "    if len(i)>2:\n",
    "        es7716[3].append(i[2])\n",
    "    if len(i)>3:\n",
    "        es7716[4].append(i[3])\n",
    "    if len(i)>4:\n",
    "        es7716[5].append(i[4])\n",
    "        \n",
    "#################################\n",
    "## MEAN, MIN, MAX for plotting ##\n",
    "#################################\n",
    "means_7716 = []\n",
    "errs_7716_min  = []\n",
    "errs_7716_max  = []\n",
    "\n",
    "for i in range(6):\n",
    "    means_7716.append(np.mean(es7716[i]))\n",
    "    if len(es7716[i])<=1:\n",
    "        errs_7716_min.append(0)\n",
    "        errs_7716_max.append(0)\n",
    "    else:\n",
    "        errs_7716_min.append(np.mean(es7716[i]) - np.min(es7716[i]))\n",
    "        errs_7716_max.append(np.max(es7716[i]) - np.mean(es7716[i]))\n",
    "        \n",
    "means7716 = np.array(means_7716)\n",
    "errs7716 = np.zeros((2,6))\n",
    "errs7716[0,:] = errs_7716_min\n",
    "errs7716[1,:] = errs_7716_max"
   ]
  },
  {
   "cell_type": "code",
   "execution_count": 6,
   "id": "bfd681bf",
   "metadata": {},
   "outputs": [],
   "source": [
    "total_slices = 17878347"
   ]
  },
  {
   "cell_type": "code",
   "execution_count": 7,
   "id": "683ed4a9",
   "metadata": {},
   "outputs": [
    {
     "name": "stderr",
     "output_type": "stream",
     "text": [
      "/var/folders/mb/zd6pgmt100q77s5fhn5xf4jw0000gq/T/ipykernel_30928/3900409800.py:1: RuntimeWarning: divide by zero encountered in divide\n",
      "  slices_per_sec_mean_1929 = total_slices/means1929\n",
      "/var/folders/mb/zd6pgmt100q77s5fhn5xf4jw0000gq/T/ipykernel_30928/3900409800.py:2: RuntimeWarning: divide by zero encountered in divide\n",
      "  slices_per_sec_mean_3858 = (total_slices * 2)/means3858\n",
      "/var/folders/mb/zd6pgmt100q77s5fhn5xf4jw0000gq/T/ipykernel_30928/3900409800.py:3: RuntimeWarning: divide by zero encountered in divide\n",
      "  slices_per_sec_mean_7716 = (total_slices * 4)/means7716\n"
     ]
    }
   ],
   "source": [
    "slices_per_sec_mean_1929 = total_slices/means1929\n",
    "slices_per_sec_mean_3858 = (total_slices * 2)/means3858\n",
    "slices_per_sec_mean_7716 = (total_slices * 4)/means7716"
   ]
  },
  {
   "cell_type": "code",
   "execution_count": 8,
   "id": "a77f476c",
   "metadata": {},
   "outputs": [
    {
     "name": "stderr",
     "output_type": "stream",
     "text": [
      "/var/folders/mb/zd6pgmt100q77s5fhn5xf4jw0000gq/T/ipykernel_30928/2681382997.py:2: RuntimeWarning: divide by zero encountered in divide\n",
      "  + total_slices/(means1929 - errs1929[0,:]) - total_slices/means1929,\n",
      "/var/folders/mb/zd6pgmt100q77s5fhn5xf4jw0000gq/T/ipykernel_30928/2681382997.py:2: RuntimeWarning: invalid value encountered in subtract\n",
      "  + total_slices/(means1929 - errs1929[0,:]) - total_slices/means1929,\n",
      "/var/folders/mb/zd6pgmt100q77s5fhn5xf4jw0000gq/T/ipykernel_30928/2681382997.py:3: RuntimeWarning: divide by zero encountered in divide\n",
      "  - total_slices/(means1929 + errs1929[1,:]) + total_slices/means1929,\n",
      "/var/folders/mb/zd6pgmt100q77s5fhn5xf4jw0000gq/T/ipykernel_30928/2681382997.py:3: RuntimeWarning: invalid value encountered in add\n",
      "  - total_slices/(means1929 + errs1929[1,:]) + total_slices/means1929,\n",
      "/var/folders/mb/zd6pgmt100q77s5fhn5xf4jw0000gq/T/ipykernel_30928/2681382997.py:7: RuntimeWarning: divide by zero encountered in divide\n",
      "  + (total_slices * 2)/(means3858 - errs3858[0,:]) - (total_slices * 2)/means3858,\n",
      "/var/folders/mb/zd6pgmt100q77s5fhn5xf4jw0000gq/T/ipykernel_30928/2681382997.py:7: RuntimeWarning: invalid value encountered in subtract\n",
      "  + (total_slices * 2)/(means3858 - errs3858[0,:]) - (total_slices * 2)/means3858,\n",
      "/var/folders/mb/zd6pgmt100q77s5fhn5xf4jw0000gq/T/ipykernel_30928/2681382997.py:8: RuntimeWarning: divide by zero encountered in divide\n",
      "  - (total_slices * 2)/(means3858 + errs3858[1,:]) + (total_slices * 2)/means3858,\n",
      "/var/folders/mb/zd6pgmt100q77s5fhn5xf4jw0000gq/T/ipykernel_30928/2681382997.py:8: RuntimeWarning: invalid value encountered in add\n",
      "  - (total_slices * 2)/(means3858 + errs3858[1,:]) + (total_slices * 2)/means3858,\n",
      "/var/folders/mb/zd6pgmt100q77s5fhn5xf4jw0000gq/T/ipykernel_30928/2681382997.py:12: RuntimeWarning: divide by zero encountered in divide\n",
      "  + (total_slices * 4)/(means_7716 - errs7716[0,:]) - (total_slices * 4)/means7716,\n",
      "/var/folders/mb/zd6pgmt100q77s5fhn5xf4jw0000gq/T/ipykernel_30928/2681382997.py:12: RuntimeWarning: invalid value encountered in subtract\n",
      "  + (total_slices * 4)/(means_7716 - errs7716[0,:]) - (total_slices * 4)/means7716,\n",
      "/var/folders/mb/zd6pgmt100q77s5fhn5xf4jw0000gq/T/ipykernel_30928/2681382997.py:13: RuntimeWarning: divide by zero encountered in divide\n",
      "  - (total_slices * 4)/(means_7716 + errs7716[1,:]) + (total_slices * 4)/means7716,\n",
      "/var/folders/mb/zd6pgmt100q77s5fhn5xf4jw0000gq/T/ipykernel_30928/2681382997.py:13: RuntimeWarning: invalid value encountered in add\n",
      "  - (total_slices * 4)/(means_7716 + errs7716[1,:]) + (total_slices * 4)/means7716,\n"
     ]
    }
   ],
   "source": [
    "slices_per_sec_errs_1929 = np.array([\n",
    "                            + total_slices/(means1929 - errs1929[0,:]) - total_slices/means1929,\n",
    "                            - total_slices/(means1929 + errs1929[1,:]) + total_slices/means1929,\n",
    "                            ])\n",
    "\n",
    "slices_per_sec_errs_3858 = np.array([\n",
    "                            + (total_slices * 2)/(means3858 - errs3858[0,:]) - (total_slices * 2)/means3858,\n",
    "                            - (total_slices * 2)/(means3858 + errs3858[1,:]) + (total_slices * 2)/means3858,\n",
    "                            ])\n",
    "\n",
    "slices_per_sec_errs_7716 = np.array([\n",
    "                            + (total_slices * 4)/(means_7716 - errs7716[0,:]) - (total_slices * 4)/means7716,\n",
    "                            - (total_slices * 4)/(means_7716 + errs7716[1,:]) + (total_slices * 4)/means7716,\n",
    "                            ])"
   ]
  },
  {
   "cell_type": "code",
   "execution_count": 9,
   "id": "aa1fe3af",
   "metadata": {},
   "outputs": [],
   "source": [
    "np.save('slices_per_sec_mean_1929.npy', slices_per_sec_mean_1929)\n",
    "np.save('slices_per_sec_mean_3858.npy', slices_per_sec_mean_3858)\n",
    "np.save('slices_per_sec_mean_7716.npy', slices_per_sec_mean_7716)\n",
    "\n",
    "np.save('slices_per_sec_errs_1929.npy', slices_per_sec_errs_1929)\n",
    "np.save('slices_per_sec_errs_3858.npy', slices_per_sec_errs_3858)\n",
    "np.save('slices_per_sec_errs_7716.npy', slices_per_sec_errs_7716)"
   ]
  },
  {
   "cell_type": "code",
   "execution_count": 10,
   "id": "f7297505",
   "metadata": {},
   "outputs": [],
   "source": [
    "np.save('means_1929.npy', means_1929)\n",
    "np.save('means_3858.npy', means_3858)\n",
    "np.save('means_7716.npy', means_7716)\n",
    "\n",
    "np.save('errs1929.npy', errs1929)\n",
    "np.save('errs3858.npy', errs3858)\n",
    "np.save('errs7716.npy', errs7716)"
   ]
  },
  {
   "cell_type": "code",
   "execution_count": null,
   "id": "26d322af",
   "metadata": {},
   "outputs": [],
   "source": []
  }
 ],
 "metadata": {
  "kernelspec": {
   "display_name": "Python 3 (ipykernel)",
   "language": "python",
   "name": "python3"
  },
  "language_info": {
   "codemirror_mode": {
    "name": "ipython",
    "version": 3
   },
   "file_extension": ".py",
   "mimetype": "text/x-python",
   "name": "python",
   "nbconvert_exporter": "python",
   "pygments_lexer": "ipython3",
   "version": "3.10.6"
  }
 },
 "nbformat": 4,
 "nbformat_minor": 5
}
