{
 "cells": [
  {
   "cell_type": "code",
   "execution_count": null,
   "id": "a4e8b67f-745e-45a5-894b-0daa2d24b8bd",
   "metadata": {},
   "outputs": [],
   "source": [
    "import numpy as np\n",
    "import matplotlib.pyplot as plt\n",
    "import matplotlib as mpl"
   ]
  },
  {
   "cell_type": "code",
   "execution_count": null,
   "id": "92f36ce9-9eff-486e-9707-a7b640b8dbf6",
   "metadata": {},
   "outputs": [],
   "source": [
    "root_1929_slices_per_sec_mean = np.load('root/root_slices_per_sec_mean_1929.npy')\n",
    "root_3858_slices_per_sec_mean = np.load('root/root_slices_per_sec_mean_3858.npy')\n",
    "#root_7716_slices_per_sec_mean = np.load('root/root_slices_per_sec_mean_7716.npy')\n",
    "\n",
    "root_1929_slices_per_sec_errs = np.load('root/root_slices_per_sec_errs_1929.npy')\n",
    "root_3858_slices_per_sec_errs = np.load('root/root_slices_per_sec_errs_3858.npy')\n",
    "#root_7716_slices_per_sec_errs = np.load('root/root_slices_per_sec_errs_7716.npy')"
   ]
  },
  {
   "cell_type": "code",
   "execution_count": null,
   "id": "57772c50-5c08-4a0f-a9dd-933a562d408a",
   "metadata": {},
   "outputs": [],
   "source": [
    "hepnos_s4v2_1929_slices_per_sec_mean = np.load('hepnos/s4v2/slices_per_sec_mean_1929.npy')\n",
    "hepnos_s4v2_3858_slices_per_sec_mean = np.load('hepnos/s4v2/slices_per_sec_mean_3858.npy')\n",
    "hepnos_s4v2_7716_slices_per_sec_mean = np.load('hepnos/s4v2/slices_per_sec_mean_7716.npy')\n",
    "\n",
    "hepnos_s4v2_1929_slices_per_sec_errs = np.load('hepnos/s4v2/slices_per_sec_errs_1929.npy')\n",
    "hepnos_s4v2_3858_slices_per_sec_errs = np.load('hepnos/s4v2/slices_per_sec_errs_3858.npy')\n",
    "hepnos_s4v2_7716_slices_per_sec_errs = np.load('hepnos/s4v2/slices_per_sec_errs_7716.npy')"
   ]
  },
  {
   "cell_type": "code",
   "execution_count": null,
   "id": "cc19b77c-9bcd-4087-bf62-134b9419182c",
   "metadata": {},
   "outputs": [],
   "source": [
    "nodes = np.array([8,16,32,64,128,256])\n",
    "\n",
    "mpl.rcParams['font.family'] = 'Arial'\n",
    "plt.rcParams['font.size'] = 18\n",
    "plt.rcParams['axes.linewidth'] = 0.5\n",
    "mpl.rcParams['lines.markersize'] = 6\n",
    "\n",
    "f,ax = plt.subplots(1,3)\n",
    "f.set_size_inches(32,10)\n",
    "f.subplots_adjust(wspace=0)\n",
    "\n",
    "_elinewidth = 0.75\n",
    "_capsize = 3\n",
    "\n",
    "ax[0].set_title('1929 files')\n",
    "ax[0].errorbar(np.arange(6), hepnos_s4v2_1929_slices_per_sec_mean, yerr=hepnos_s4v2_1929_slices_per_sec_errs, fmt='y-x', ecolor='y', elinewidth=_elinewidth, capsize=_capsize, label='HEPnOS')\n",
    "ax[0].plot(np.arange(6), (hepnos_s4v2_1929_slices_per_sec_mean[0])*(nodes/nodes[0]), 'y--.', alpha=0.35)\n",
    "ax[0].errorbar(np.arange(5), root_1929_slices_per_sec_mean[:-1], yerr=root_1929_slices_per_sec_errs[:, :-1], fmt='m-x', ecolor='m', elinewidth=_elinewidth, capsize=_capsize, label='ROOT')\n",
    "ax[0].plot(np.arange(6), (root_1929_slices_per_sec_mean[0])*(nodes/nodes[0]), 'm--.', alpha=0.35)\n",
    "\n",
    "ax[1].set_title('3858 files')\n",
    "ax[1].errorbar(np.arange(6), hepnos_s4v2_3858_slices_per_sec_mean, yerr=hepnos_s4v2_3858_slices_per_sec_errs, fmt='y-x', ecolor='y', elinewidth=_elinewidth, capsize=_capsize, label='HEPnOS')\n",
    "ax[1].plot(np.arange(6), (hepnos_s4v2_3858_slices_per_sec_mean[0])*(nodes/nodes[0]), 'y--.', alpha=0.35)\n",
    "ax[1].errorbar(np.arange(6), root_3858_slices_per_sec_mean, yerr=root_3858_slices_per_sec_errs, fmt='m-x', ecolor='m', elinewidth=_elinewidth, capsize=_capsize, label='ROOT')\n",
    "ax[1].plot(np.arange(6), (root_3858_slices_per_sec_mean[0])*(nodes/nodes[0]), 'm--.', alpha=0.35)\n",
    "\n",
    "ax[2].set_title('7716 files')\n",
    "ax[2].errorbar(np.arange(6), hepnos_s4v2_7716_slices_per_sec_mean, yerr=hepnos_s4v2_7716_slices_per_sec_errs, fmt='y-x', ecolor='y', elinewidth=_elinewidth, capsize=_capsize, label='HEPnOS')\n",
    "ax[2].plot(np.arange(6), (hepnos_s4v2_7716_slices_per_sec_mean[0])*(nodes/nodes[0]), 'y--.', alpha=0.35)\n",
    "#ax[2].errorbar(np.arange(5), root_7716_slices_per_sec_mean, yerr=root_7716_slices_per_sec_errs, fmt='m-x', ecolor='m', elinewidth=_elinewidth, capsize=_capsize, label='ROOT')\n",
    "#ax[2].plot(np.arange(5), (root_7716_slices_per_sec_mean[0])*(nodes/nodes[0]), 'm--.', alpha=0.35)\n",
    "\n",
    "# Common legend for all plots!\n",
    "lgd = ax[1].legend(bbox_to_anchor=(0.75, -0.125), ncol=3)\n",
    "\n",
    "for _ax in ax:\n",
    "    _ax.set_xticks(np.arange(6))\n",
    "    _ax.set_xticklabels(nodes)\n",
    "    _ax.set_xlabel('Nodes', labelpad=10)\n",
    "    _ax.set_yscale('log', base=10)\n",
    "    #_ax.set_ylim(10**4,10**7)\n",
    "    _ax.xaxis.set_tick_params(which='major', size=10, width=2)\n",
    "    _ax.xaxis.set_tick_params(which='minor', size=7, width=2)\n",
    "    _ax.yaxis.set_tick_params(which='major', size=10, width=2)\n",
    "    _ax.yaxis.set_tick_params(which='minor', size=7, width=2)\n",
    "    if _ax==ax[0]:\n",
    "        _ax.set_ylabel('Throughpout: slices processed/sec', labelpad=10, size=22)\n",
    "    else:\n",
    "        _ax.yaxis.set_ticklabels([])\n",
    "        _ax.yaxis.set_ticks([])\n",
    "        _ax.yaxis.set_ticks([], minor=True)"
   ]
  },
  {
   "cell_type": "code",
   "execution_count": null,
   "id": "94af1806-58d4-4937-bf5e-62bb4e578296",
   "metadata": {},
   "outputs": [],
   "source": [
    "root_1929_slices_per_sec_mean"
   ]
  },
  {
   "cell_type": "code",
   "execution_count": null,
   "id": "ab82b854-4d4f-49f9-8356-0a3b4a5dd420",
   "metadata": {},
   "outputs": [],
   "source": []
  }
 ],
 "metadata": {
  "kernelspec": {
   "display_name": "Python 3 (ipykernel)",
   "language": "python",
   "name": "python3"
  },
  "language_info": {
   "codemirror_mode": {
    "name": "ipython",
    "version": 3
   },
   "file_extension": ".py",
   "mimetype": "text/x-python",
   "name": "python",
   "nbconvert_exporter": "python",
   "pygments_lexer": "ipython3",
   "version": "3.10.4"
  }
 },
 "nbformat": 4,
 "nbformat_minor": 5
}
