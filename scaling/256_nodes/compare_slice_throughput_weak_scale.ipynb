{
 "cells": [
  {
   "cell_type": "code",
   "execution_count": 1,
   "id": "15681045",
   "metadata": {},
   "outputs": [],
   "source": [
    "import numpy as np\n",
    "import matplotlib.pyplot as plt\n",
    "import matplotlib as mpl"
   ]
  },
  {
   "cell_type": "code",
   "execution_count": 2,
   "id": "c5871926",
   "metadata": {},
   "outputs": [],
   "source": [
    "root_1929_slices_per_sec_mean = np.load('root/root_slices_per_sec_mean_1929.npy')\n",
    "root_3858_slices_per_sec_mean = np.load('root/root_slices_per_sec_mean_3858.npy')\n",
    "root_7716_slices_per_sec_mean = np.load('root/root_slices_per_sec_mean_7716.npy')\n",
    "\n",
    "root_1929_slices_per_sec_errs = np.load('root/root_slices_per_sec_errs_1929.npy')\n",
    "root_3858_slices_per_sec_errs = np.load('root/root_slices_per_sec_errs_3858.npy')\n",
    "root_7716_slices_per_sec_errs = np.load('root/root_slices_per_sec_errs_7716.npy')"
   ]
  },
  {
   "cell_type": "code",
   "execution_count": 3,
   "id": "de9f6f42",
   "metadata": {},
   "outputs": [],
   "source": [
    "hepnos_s4v2_1929_slices_per_sec_mean = np.load('hepnos/servers_four/s4v2/slices_per_sec_mean_1929.npy')\n",
    "hepnos_s4v2_3858_slices_per_sec_mean = np.load('hepnos/servers_four/s4v2/slices_per_sec_mean_3858.npy')\n",
    "hepnos_s4v2_7716_slices_per_sec_mean = np.load('hepnos/servers_four/s4v2/slices_per_sec_mean_7716.npy')\n",
    "\n",
    "hepnos_s4v2_1929_slices_per_sec_errs = np.load('hepnos/servers_four/s4v2/slices_per_sec_errs_1929.npy')\n",
    "hepnos_s4v2_3858_slices_per_sec_errs = np.load('hepnos/servers_four/s4v2/slices_per_sec_errs_3858.npy')\n",
    "hepnos_s4v2_7716_slices_per_sec_errs = np.load('hepnos/servers_four/s4v2/slices_per_sec_errs_7716.npy')"
   ]
  },
  {
   "cell_type": "code",
   "execution_count": 4,
   "id": "c145a202",
   "metadata": {},
   "outputs": [],
   "source": [
    "hepnos_s1by8_1rank_rpc16_1929_slices_per_sec_mean = np.load('hepnos/servers_one_eigth/one_mpi_rank/rpc16/slices_per_sec_mean_1929.npy')\n",
    "hepnos_s1by8_1rank_rpc16_3858_slices_per_sec_mean = np.load('hepnos/servers_one_eigth/one_mpi_rank/rpc16/slices_per_sec_mean_3858.npy')\n",
    "hepnos_s1by8_1rank_rpc16_7716_slices_per_sec_mean = np.load('hepnos/servers_one_eigth/one_mpi_rank/rpc16/slices_per_sec_mean_7716.npy')\n",
    "\n",
    "hepnos_s1by8_1rank_rpc16_1929_slices_per_sec_errs = np.load('hepnos/servers_one_eigth/one_mpi_rank/rpc16/slices_per_sec_errs_1929.npy')\n",
    "hepnos_s1by8_1rank_rpc16_3858_slices_per_sec_errs = np.load('hepnos/servers_one_eigth/one_mpi_rank/rpc16/slices_per_sec_errs_3858.npy')\n",
    "hepnos_s1by8_1rank_rpc16_7716_slices_per_sec_errs = np.load('hepnos/servers_one_eigth/one_mpi_rank/rpc16/slices_per_sec_errs_7716.npy')"
   ]
  },
  {
   "cell_type": "code",
   "execution_count": 5,
   "id": "52307dfa",
   "metadata": {},
   "outputs": [],
   "source": [
    "hepnos_s1by8_1rank_rpc256_1929_slices_per_sec_mean = np.load('hepnos/servers_one_eigth/one_mpi_rank/rpc256/slices_per_sec_mean_1929.npy')\n",
    "hepnos_s1by8_1rank_rpc256_3858_slices_per_sec_mean = np.load('hepnos/servers_one_eigth/one_mpi_rank/rpc256/slices_per_sec_mean_3858.npy')\n",
    "hepnos_s1by8_1rank_rpc256_7716_slices_per_sec_mean = np.load('hepnos/servers_one_eigth/one_mpi_rank/rpc256/slices_per_sec_mean_7716.npy')\n",
    "\n",
    "hepnos_s1by8_1rank_rpc256_1929_slices_per_sec_errs = np.load('hepnos/servers_one_eigth/one_mpi_rank/rpc256/slices_per_sec_errs_1929.npy')\n",
    "hepnos_s1by8_1rank_rpc256_3858_slices_per_sec_errs = np.load('hepnos/servers_one_eigth/one_mpi_rank/rpc256/slices_per_sec_errs_3858.npy')\n",
    "hepnos_s1by8_1rank_rpc256_7716_slices_per_sec_errs = np.load('hepnos/servers_one_eigth/one_mpi_rank/rpc256/slices_per_sec_errs_7716.npy')"
   ]
  },
  {
   "cell_type": "code",
   "execution_count": 6,
   "id": "a0aa950c",
   "metadata": {},
   "outputs": [],
   "source": [
    "hepnos_s1by8_16ranks_1929_slices_per_sec_mean = np.load('hepnos/servers_one_eigth/16_mpi_ranks/slices_per_sec_mean_1929.npy')\n",
    "hepnos_s1by8_16ranks_3858_slices_per_sec_mean = np.load('hepnos/servers_one_eigth/16_mpi_ranks/slices_per_sec_mean_3858.npy')\n",
    "hepnos_s1by8_16ranks_7716_slices_per_sec_mean = np.load('hepnos/servers_one_eigth/16_mpi_ranks/slices_per_sec_mean_7716.npy')\n",
    "\n",
    "hepnos_s1by8_16ranks_1929_slices_per_sec_errs = np.load('hepnos/servers_one_eigth/16_mpi_ranks/slices_per_sec_errs_1929.npy')\n",
    "hepnos_s1by8_16ranks_3858_slices_per_sec_errs = np.load('hepnos/servers_one_eigth/16_mpi_ranks/slices_per_sec_errs_3858.npy')\n",
    "hepnos_s1by8_16ranks_7716_slices_per_sec_errs = np.load('hepnos/servers_one_eigth/16_mpi_ranks/slices_per_sec_errs_7716.npy')"
   ]
  },
  {
   "cell_type": "code",
   "execution_count": 7,
   "id": "fafbbda6",
   "metadata": {},
   "outputs": [],
   "source": [
    "ssd_hepnos_s4_1929_slices_per_sec_mean = np.load('ssd_hepnos/servers_four/slices_per_sec_mean_1929.npy')\n",
    "ssd_hepnos_s4_3858_slices_per_sec_mean = np.load('ssd_hepnos/servers_four/slices_per_sec_mean_3858.npy')\n",
    "ssd_hepnos_s4_7716_slices_per_sec_mean = np.load('ssd_hepnos/servers_four/slices_per_sec_mean_7716.npy')\n",
    "\n",
    "ssd_hepnos_s4_1929_slices_per_sec_errs = np.load('ssd_hepnos/servers_four/slices_per_sec_errs_1929.npy')\n",
    "ssd_hepnos_s4_3858_slices_per_sec_errs = np.load('ssd_hepnos/servers_four/slices_per_sec_errs_3858.npy')\n",
    "ssd_hepnos_s4_7716_slices_per_sec_errs = np.load('ssd_hepnos/servers_four/slices_per_sec_errs_7716.npy')"
   ]
  },
  {
   "cell_type": "code",
   "execution_count": 8,
   "id": "45bbf8e6",
   "metadata": {},
   "outputs": [],
   "source": [
    "#ssd-hepnos-servers:1/8-1server/1node-...\n",
    "ssd_h_s1_by_8_1s1n_1929_slices_per_sec_mean = np.load('ssd_hepnos/servers_one_eigth/one_server_per_node/slices_per_sec_mean_1929.npy')\n",
    "ssd_h_s1_by_8_1s1n_3858_slices_per_sec_mean = np.load('ssd_hepnos/servers_one_eigth/one_server_per_node/slices_per_sec_mean_3858.npy')\n",
    "ssd_h_s1_by_8_1s1n_7716_slices_per_sec_mean = np.load('ssd_hepnos/servers_one_eigth/one_server_per_node/slices_per_sec_mean_7716.npy')\n",
    "\n",
    "ssd_h_s1_by_8_1s1n_1929_slices_per_sec_errs = np.load('ssd_hepnos/servers_one_eigth/one_server_per_node/slices_per_sec_errs_1929.npy')\n",
    "ssd_h_s1_by_8_1s1n_3858_slices_per_sec_errs = np.load('ssd_hepnos/servers_one_eigth/one_server_per_node/slices_per_sec_errs_3858.npy')\n",
    "ssd_h_s1_by_8_1s1n_7716_slices_per_sec_errs = np.load('ssd_hepnos/servers_one_eigth/one_server_per_node/slices_per_sec_errs_7716.npy')"
   ]
  },
  {
   "cell_type": "code",
   "execution_count": 9,
   "id": "e9434b15",
   "metadata": {},
   "outputs": [],
   "source": [
    "#ssd-hepnos-servers:1/8-multiple_servers/1node-...\n",
    "ssd_h_s1_by_8_ms1n_1929_slices_per_sec_mean = np.load('ssd_hepnos/servers_one_eigth/multi_servers_per_node/slices_per_sec_mean_1929.npy')\n",
    "ssd_h_s1_by_8_ms1n_3858_slices_per_sec_mean = np.load('ssd_hepnos/servers_one_eigth/multi_servers_per_node/slices_per_sec_mean_3858.npy')\n",
    "ssd_h_s1_by_8_ms1n_7716_slices_per_sec_mean = np.load('ssd_hepnos/servers_one_eigth/multi_servers_per_node/slices_per_sec_mean_7716.npy')\n",
    "\n",
    "ssd_h_s1_by_8_ms1n_1929_slices_per_sec_errs = np.load('ssd_hepnos/servers_one_eigth/multi_servers_per_node/slices_per_sec_errs_1929.npy')\n",
    "ssd_h_s1_by_8_ms1n_3858_slices_per_sec_errs = np.load('ssd_hepnos/servers_one_eigth/multi_servers_per_node/slices_per_sec_errs_3858.npy')\n",
    "ssd_h_s1_by_8_ms1n_7716_slices_per_sec_errs = np.load('ssd_hepnos/servers_one_eigth/multi_servers_per_node/slices_per_sec_errs_7716.npy')"
   ]
  },
  {
   "cell_type": "code",
   "execution_count": 10,
   "id": "efa45fb8",
   "metadata": {},
   "outputs": [
    {
     "data": {
      "text/plain": [
       "array([  45841.91538462,   82923.68738404,  136267.88871951,\n",
       "        197332.74834437,  228623.36317136, 1077008.85542169])"
      ]
     },
     "execution_count": 10,
     "metadata": {},
     "output_type": "execute_result"
    }
   ],
   "source": [
    "root_1929_slices_per_sec_mean"
   ]
  },
  {
   "cell_type": "code",
   "execution_count": 11,
   "id": "5811224b",
   "metadata": {},
   "outputs": [],
   "source": [
    "root_weak_scale = np.zeros((6,3))\n",
    "for i in range(6):\n",
    "    if i!=5:\n",
    "        root_weak_scale[i,:] = np.array([root_1929_slices_per_sec_mean[i], \n",
    "                                         root_3858_slices_per_sec_mean[i], \n",
    "                                         root_7716_slices_per_sec_mean[i]])\n",
    "    if i==5: \n",
    "        root_weak_scale[i,:] = np.array([0, \n",
    "                                         root_3858_slices_per_sec_mean[i], \n",
    "                                         root_7716_slices_per_sec_mean[i]])\n",
    "hepnos_s1by8_1rank_rpc16_weak_scale = np.zeros((6,3))\n",
    "for i in range(6):\n",
    "    hepnos_s1by8_1rank_rpc16_weak_scale[i,:] = np.array([hepnos_s1by8_1rank_rpc16_1929_slices_per_sec_mean[i],\n",
    "                                                         hepnos_s1by8_1rank_rpc16_3858_slices_per_sec_mean[i],\n",
    "                                                         hepnos_s1by8_1rank_rpc16_7716_slices_per_sec_mean[i]])\n",
    "\n",
    "hepnos_s1by8_16ranks_weak_scale = np.zeros((6,3))\n",
    "for i in range(6):\n",
    "    hepnos_s1by8_16ranks_weak_scale[i,:] = np.array([hepnos_s1by8_16ranks_1929_slices_per_sec_mean[i],\n",
    "                                                          hepnos_s1by8_16ranks_3858_slices_per_sec_mean[i],\n",
    "                                                          hepnos_s1by8_16ranks_7716_slices_per_sec_mean[i]])\n",
    "\n",
    "ssd_h_s1_by_8_ms1n_weak_scale = np.zeros((6,3)) \n",
    "for i in range(6):\n",
    "    if i==0:\n",
    "        ssd_h_s1_by_8_ms1n_weak_scale[i,:] = np.array([ssd_h_s1_by_8_ms1n_1929_slices_per_sec_mean[i],\n",
    "                                                       ssd_h_s1_by_8_ms1n_3858_slices_per_sec_mean[i],\n",
    "                                                       0])\n",
    "    else:\n",
    "        ssd_h_s1_by_8_ms1n_weak_scale[i,:] = np.array([ssd_h_s1_by_8_ms1n_1929_slices_per_sec_mean[i],\n",
    "                                                       ssd_h_s1_by_8_ms1n_3858_slices_per_sec_mean[i],\n",
    "                                                       ssd_h_s1_by_8_ms1n_7716_slices_per_sec_mean[i]])"
   ]
  },
  {
   "cell_type": "code",
   "execution_count": 12,
   "id": "c4dc4d33",
   "metadata": {},
   "outputs": [
    {
     "data": {
      "text/plain": [
       "array([[ 87380.29735215,  87116.40902782,      0.        ],\n",
       "       [169479.59606889, 172208.67205735, 172484.53389795],\n",
       "       [311010.03200986, 325886.58201683, 334288.89571287],\n",
       "       [431076.3979475 , 476332.80944313, 502639.27059821],\n",
       "       [509137.29643945, 597338.54059342, 686172.32999881],\n",
       "       [300319.20432645, 527428.81965828, 743166.3114454 ]])"
      ]
     },
     "execution_count": 12,
     "metadata": {},
     "output_type": "execute_result"
    }
   ],
   "source": [
    "ssd_h_s1_by_8_ms1n_weak_scale"
   ]
  },
  {
   "cell_type": "code",
   "execution_count": null,
   "id": "77c97505",
   "metadata": {},
   "outputs": [],
   "source": [
    "nodes = np.array([8,16,32,64,128,256])\n",
    "\n",
    "mpl.rcParams['font.family'] = 'Arial'\n",
    "plt.rcParams['font.size'] = 18\n",
    "plt.rcParams['axes.linewidth'] = 0.5\n",
    "mpl.rcParams['lines.markersize'] = 6\n",
    "\n",
    "f,ax = plt.subplots(2,3)\n",
    "f.set_size_inches(26,20)\n",
    "f.subplots_adjust(wspace=0)\n",
    "\n",
    "_elinewidth = 0.75\n",
    "_capsize = 3\n",
    "\n",
    "i = 0\n",
    "ax[0][0].set_title('8 nodes')\n",
    "ax[0][0].plot(root_weak_scale[i,:],'y')\n",
    "ax[0][0].plot(np.arange(1,3), hepnos_s1by8_1rank_rpc16_weak_scale[i,1:],'g')\n",
    "ax[0][0].plot(hepnos_s1by8_16ranks_weak_scale[i,:],'m')\n",
    "ax[0][0].plot(np.arange(0,2), ssd_h_s1_by_8_ms1n_weak_scale[i,:-1], 'c')\n",
    "\n",
    "i = 1\n",
    "ax[0][1].set_title('16 nodes')\n",
    "ax[0][1].plot(root_weak_scale[i,:],'y')\n",
    "ax[0][1].plot(hepnos_s1by8_1rank_rpc16_weak_scale[i,:],'g')\n",
    "ax[0][1].plot(hepnos_s1by8_16ranks_weak_scale[i,:],'m')\n",
    "ax[0][1].plot(ssd_h_s1_by_8_ms1n_weak_scale[i,:], 'c')\n",
    "\n",
    "i = 2\n",
    "ax[0][2].set_title('32 nodes')\n",
    "ax[0][2].plot(root_weak_scale[i,:],'y')\n",
    "ax[0][2].plot(hepnos_s1by8_1rank_rpc16_weak_scale[i,:],'g')\n",
    "ax[0][2].plot(hepnos_s1by8_16ranks_weak_scale[i,:],'m')\n",
    "ax[0][2].plot(ssd_h_s1_by_8_ms1n_weak_scale[i,:], 'c')\n",
    "\n",
    "i = 3\n",
    "ax[1][0].set_title('64 nodes')\n",
    "ax[1][0].plot(root_weak_scale[i,:],'y')\n",
    "ax[1][0].plot(hepnos_s1by8_1rank_rpc16_weak_scale[i,:],'g')\n",
    "ax[1][0].plot(hepnos_s1by8_16ranks_weak_scale[i,:],'m')\n",
    "ax[1][0].plot(ssd_h_s1_by_8_ms1n_weak_scale[i,:], 'c')\n",
    "\n",
    "i = 4\n",
    "ax[1][1].set_title('128 nodes')\n",
    "ax[1][1].plot(root_weak_scale[i,:],'y', label=\"ROOT\")\n",
    "ax[1][1].plot(hepnos_s1by8_1rank_rpc16_weak_scale[i,:],'g', label=\"HEPnOS-map-1/8-16MPI-16rpc\")\n",
    "ax[1][1].plot(hepnos_s1by8_16ranks_weak_scale[i,:],'m', label=\"HEPnOS-map-1/8-1MPI-16rpc\")\n",
    "ax[1][1].plot(ssd_h_s1_by_8_ms1n_weak_scale[i,:], 'c', label=\"HEPnOS-rocksdb-1/8-16MPI-16rpc\")\n",
    "\n",
    "i = 5\n",
    "ax[1][2].set_title('256 nodes')\n",
    "ax[1][2].plot(np.arange(1,3), root_weak_scale[i,1:],'y')\n",
    "ax[1][2].plot(hepnos_s1by8_1rank_rpc16_weak_scale[i,:],'g')\n",
    "ax[1][2].plot(hepnos_s1by8_16ranks_weak_scale[i,:],'m')\n",
    "ax[1][2].plot(ssd_h_s1_by_8_ms1n_weak_scale[i,:], 'c')\n",
    "\n",
    "\n",
    "# Common legend for all plots!\n",
    "lgd = ax[1][1].legend(bbox_to_anchor=(1.5, -0.125), ncol=4)\n",
    "\n",
    "files = np.array([1,2,4])\n",
    "for _ax in ax.flatten():\n",
    "    _ax.set_xticks(np.arange(3))\n",
    "    _ax.set_xticklabels(files)\n",
    "    _ax.set_xlim(-0.25,2.25)\n",
    "    _ax.set_ylim(3*10**4,2*10**6)\n",
    "    _ax.set_xlabel('Number of files (x1929)', labelpad=10)\n",
    "    _ax.set_yscale('log', base=10)\n",
    "    _ax.xaxis.set_tick_params(which='major', size=10, width=2)\n",
    "    _ax.xaxis.set_tick_params(which='minor', size=7, width=2)\n",
    "    _ax.yaxis.set_tick_params(which='major', size=10, width=2)\n",
    "    _ax.yaxis.set_tick_params(which='minor', size=7, width=2)\n",
    "    if _ax==ax[0][0] or _ax==ax[1][0]:\n",
    "        _ax.set_ylabel('Throughpout: slices processed/sec', labelpad=10, size=22)\n",
    "    else:\n",
    "        _ax.yaxis.set_ticklabels([])\n",
    "        _ax.yaxis.set_ticks([])\n",
    "        _ax.yaxis.set_ticks([], minor=True)\n",
    "        \n",
    "plt.savefig(\"weak_scale.png\", dpi=250, bbox_inches=\"tight\")\n"
   ]
  },
  {
   "cell_type": "code",
   "execution_count": null,
   "id": "4cd608e9",
   "metadata": {},
   "outputs": [],
   "source": []
  }
 ],
 "metadata": {
  "kernelspec": {
   "display_name": "Python 3 (ipykernel)",
   "language": "python",
   "name": "python3"
  },
  "language_info": {
   "codemirror_mode": {
    "name": "ipython",
    "version": 3
   },
   "file_extension": ".py",
   "mimetype": "text/x-python",
   "name": "python",
   "nbconvert_exporter": "python",
   "pygments_lexer": "ipython3",
   "version": "3.10.6"
  }
 },
 "nbformat": 4,
 "nbformat_minor": 5
}
