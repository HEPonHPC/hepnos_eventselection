{
 "cells": [
  {
   "cell_type": "code",
   "execution_count": 1,
   "id": "419559da-48a2-41f1-89e3-5c7804f720a1",
   "metadata": {},
   "outputs": [],
   "source": [
    "import numpy as np\n",
    "import matplotlib.pyplot as plt\n",
    "import os\n",
    "\n",
    "pwd = os.getcwd()"
   ]
  },
  {
   "cell_type": "code",
   "execution_count": 2,
   "id": "281990c6-d36f-481d-b29c-47304d950588",
   "metadata": {},
   "outputs": [],
   "source": [
    "ssd_results_path = str(\"/work1/fwk/sajid/hepnos_es/scaling/ssd_hepnos/servers_one_eigth/multi_servers_per_node\")"
   ]
  },
  {
   "cell_type": "code",
   "execution_count": 3,
   "id": "59c26541-8d78-4b4c-b2c9-6d524bb10872",
   "metadata": {},
   "outputs": [],
   "source": [
    "nodes = np.array([8,16,32,64,128,256])"
   ]
  },
  {
   "cell_type": "code",
   "execution_count": 4,
   "id": "5d889330-d079-46dd-b9c4-f8e081332121",
   "metadata": {},
   "outputs": [],
   "source": [
    "#1929-files\n",
    "\n",
    "#8,16,32,64,128,256\n",
    "es1929 = [[],[],[],[],[],[]]\n",
    "\n",
    "# 8 node run results are at:\n",
    "# /work1/fwk/sajid/hepnos_es/ssd_es_output/theta/8-nodes/hepnos-0.6.11/daemon_1_client_7/multi_servers_per_node\n",
    "es1929[0].append(204.60387)\n",
    "\n",
    "with os.scandir(ssd_results_path + str(\"/es_1929/\")) as it:\n",
    "    dirs = []\n",
    "    for _dir in it:\n",
    "        if not _dir.name.startswith('es') and _dir.is_dir():\n",
    "            dirs.append(_dir)\n",
    "    if len(dirs)==0:\n",
    "        dirs.append(ssd_results_path+str(\"/es_1929/\"))\n",
    "    for _dir in dirs:\n",
    "        for i in range(5):\n",
    "            os.chdir(_dir)\n",
    "            _nodes = nodes[i+1]\n",
    "            _path = os.path.join(os.getcwd()+\"/es_1929_\"+str(_nodes))\n",
    "            for j in np.arange(1,6):\n",
    "                os.chdir(_path+\"/RUN_\"+str(j))\n",
    "                _times = []\n",
    "                with os.scandir(os.getcwd()) as it:\n",
    "                    for entry in it:\n",
    "                        if entry.name.startswith('timing') and entry.is_file():\n",
    "                            f = open(entry)\n",
    "                            l = f.readlines()\n",
    "                            for k in range(len(l)):\n",
    "                                if l[k].split(\",\")[-1]==str(\"pre_pep_process\\n\"):\n",
    "                                    _start_time = float(l[k].split(\",\")[0])\n",
    "                                    _end_time = float(l[k+1].split(\",\")[0])\n",
    "                                    _times.append(_end_time - _start_time)\n",
    "                _times = np.array(_times)\n",
    "                _time_avg = np.mean(_times)\n",
    "                # Skip failed runs\n",
    "                if(_time_avg > 0):\n",
    "                    es1929[i+1].append(_time_avg)\n",
    "\n",
    "# MEAN, MIN, MAX for plotting\n",
    "means_1929 = []\n",
    "errs_1929_min  = []\n",
    "errs_1929_max  = []\n",
    "\n",
    "for i in range(6):\n",
    "    means_1929.append(np.mean(es1929[i]))\n",
    "    if len(es1929[i])<=1:\n",
    "        errs_1929_min.append(0)\n",
    "        errs_1929_max.append(0)\n",
    "    else:\n",
    "        errs_1929_min.append(np.mean(es1929[i]) - np.min(es1929[i]))\n",
    "        errs_1929_max.append(np.max(es1929[i]) - np.mean(es1929[i]))\n",
    "        \n",
    "means1929 = np.array(means_1929)\n",
    "errs1929 = np.zeros((2,6))\n",
    "errs1929[0,:] = errs_1929_min\n",
    "errs1929[1,:] = errs_1929_max"
   ]
  },
  {
   "cell_type": "code",
   "execution_count": 12,
   "id": "7c635add-fc05-471b-8c65-0945a62f7513",
   "metadata": {},
   "outputs": [
    {
     "data": {
      "text/plain": [
       "[[204.60387],\n",
       " [105.2913439732143,\n",
       "  105.22377959821428,\n",
       "  104.4102815625,\n",
       "  105.23966558035714,\n",
       "  105.72437508928572],\n",
       " [57.270501540178564,\n",
       "  56.13715214285714,\n",
       "  57.34328044642858,\n",
       "  56.300257611607144,\n",
       "  58.103002366071415],\n",
       " [39.274907120535715,\n",
       "  39.250935625000004,\n",
       "  41.812956171875,\n",
       "  41.849663906249994,\n",
       "  39.13543431919643],\n",
       " [33.95233011160714,\n",
       "  34.43972904017857,\n",
       "  34.256237265624996,\n",
       "  35.253129453125,\n",
       "  33.083362678571426],\n",
       " [59.206921392299115,\n",
       "  59.77453811941965,\n",
       "  59.44469680245536,\n",
       "  59.43624421037946,\n",
       "  59.39768811941964]]"
      ]
     },
     "execution_count": 12,
     "metadata": {},
     "output_type": "execute_result"
    }
   ],
   "source": [
    "es1929"
   ]
  },
  {
   "cell_type": "code",
   "execution_count": 5,
   "id": "43e488b3-a801-4bef-a1a3-f497a60d4fc8",
   "metadata": {},
   "outputs": [
    {
     "name": "stderr",
     "output_type": "stream",
     "text": [
      "/work1/fwk/sajid/miniforge3/envs/py3/lib/python3.10/site-packages/numpy/core/fromnumeric.py:3432: RuntimeWarning: Mean of empty slice.\n",
      "  return _methods._mean(a, axis=axis, dtype=dtype,\n",
      "/work1/fwk/sajid/miniforge3/envs/py3/lib/python3.10/site-packages/numpy/core/_methods.py:190: RuntimeWarning: invalid value encountered in double_scalars\n",
      "  ret = ret.dtype.type(ret / rcount)\n"
     ]
    }
   ],
   "source": [
    "#3858-files\n",
    "\n",
    "#8,16,32,64,128,256\n",
    "es3858 = [[],[],[],[],[],[]]\n",
    "\n",
    "# 8 node run results are at:\n",
    "# /work1/fwk/sajid/hepnos_es/ssd_es_output/theta/8-nodes/hepnos-0.6.11/daemon_1_client_7/multi_servers_per_node\n",
    "es3858[0].append(410.44729)\n",
    "\n",
    "with os.scandir(ssd_results_path + str(\"/es_3858/\")) as it:\n",
    "    dirs = []\n",
    "    for _dir in it:\n",
    "        if not _dir.name.startswith('es') and _dir.is_dir():\n",
    "            dirs.append(_dir)\n",
    "    if len(dirs)==0:\n",
    "        dirs.append(ssd_results_path+str(\"/es_3858/\"))\n",
    "    for _dir in dirs:\n",
    "        for i in range(5):\n",
    "            os.chdir(_dir)\n",
    "            _nodes = nodes[i+1]\n",
    "            _path = os.path.join(os.getcwd()+\"/es_3858_\"+str(_nodes))\n",
    "            for j in np.arange(1,6):\n",
    "                os.chdir(_path+\"/RUN_\"+str(j))\n",
    "                _times = []\n",
    "                with os.scandir(os.getcwd()) as it:\n",
    "                    for entry in it:\n",
    "                        if entry.name.startswith('timing') and entry.is_file():\n",
    "                            f = open(entry)\n",
    "                            l = f.readlines()\n",
    "                            for k in range(len(l)):\n",
    "                                if l[k].split(\",\")[-1]==str(\"pre_pep_process\\n\"):\n",
    "                                    _start_time = float(l[k].split(\",\")[0])\n",
    "                                    _end_time = float(l[k+1].split(\",\")[0])\n",
    "                                    _times.append(_end_time - _start_time)\n",
    "                _times = np.array(_times)\n",
    "                _time_avg = np.mean(_times)\n",
    "                # Skip failed runs\n",
    "                if(_time_avg > 0):\n",
    "                    es3858[i+1].append(_time_avg)\n",
    "\n",
    "# MEAN, MIN, MAX for plotting\n",
    "means_3858 = []\n",
    "errs_3858_min  = []\n",
    "errs_3858_max  = []\n",
    "\n",
    "for i in range(6):\n",
    "    means_3858.append(np.mean(es3858[i]))\n",
    "    if len(es3858[i])<=1:\n",
    "        errs_3858_min.append(0)\n",
    "        errs_3858_max.append(0)\n",
    "    else:\n",
    "        errs_3858_min.append(np.mean(es3858[i]) - np.min(es3858[i]))\n",
    "        errs_3858_max.append(np.max(es3858[i]) - np.mean(es3858[i]))\n",
    "        \n",
    "means3858 = np.array(means_3858)\n",
    "errs3858 = np.zeros((2,6))\n",
    "errs3858[0,:] = errs_3858_min\n",
    "errs3858[1,:] = errs_3858_max"
   ]
  },
  {
   "cell_type": "code",
   "execution_count": 6,
   "id": "40c7cadb-26bb-4c51-a1b5-13aefa2bdef5",
   "metadata": {},
   "outputs": [],
   "source": [
    "#7716-files\n",
    "\n",
    "#8,16,32,64,128,256\n",
    "es7716 = [[],[],[],[],[],[]]\n",
    "\n",
    "# 8 node run results are at:\n",
    "# /work1/fwk/sajid/hepnos_es/ssd_es_output/theta/8-nodes/hepnos-0.6.11/daemon_1_client_7/multi_servers_per_node\n",
    "# Cannot fit 7716 file dataset on server with 1 node\n",
    "es7716[0].append(0)\n",
    "\n",
    "with os.scandir(ssd_results_path + str(\"/es_7716/\")) as it:\n",
    "    dirs = []\n",
    "    for _dir in it:\n",
    "        if not _dir.name.startswith('es') and _dir.is_dir():\n",
    "            dirs.append(_dir)\n",
    "    if len(dirs)==0:\n",
    "        dirs.append(ssd_results_path+str(\"/es_7716/\"))\n",
    "    for _dir in dirs:\n",
    "        for i in range(5):\n",
    "            os.chdir(_dir)\n",
    "            _nodes = nodes[i+1]\n",
    "            _path = os.path.join(os.getcwd()+\"/es_7716_\"+str(_nodes))\n",
    "            for j in np.arange(1,6):\n",
    "                os.chdir(_path+\"/RUN_\"+str(j))\n",
    "                _times = []\n",
    "                with os.scandir(os.getcwd()) as it:\n",
    "                    for entry in it:\n",
    "                        if entry.name.startswith('timing') and entry.is_file():\n",
    "                            f = open(entry)\n",
    "                            l = f.readlines()\n",
    "                            for k in range(len(l)):\n",
    "                                if l[k].split(\",\")[-1]==str(\"pre_pep_process\\n\"):\n",
    "                                    _start_time = float(l[k].split(\",\")[0])\n",
    "                                    _end_time = float(l[k+1].split(\",\")[0])\n",
    "                                    _times.append(_end_time - _start_time)\n",
    "                _times = np.array(_times)\n",
    "                _time_avg = np.mean(_times)\n",
    "                # Skip failed runs\n",
    "                if(_time_avg > 0):\n",
    "                    es7716[i+1].append(_time_avg)\n",
    "\n",
    "# MEAN, MIN, MAX for plotting\n",
    "means_7716 = []\n",
    "errs_7716_min  = []\n",
    "errs_7716_max  = []\n",
    "\n",
    "for i in range(6):\n",
    "    means_7716.append(np.mean(es7716[i]))\n",
    "    if len(es7716[i])<=1:\n",
    "        errs_7716_min.append(0)\n",
    "        errs_7716_max.append(0)\n",
    "    else:\n",
    "        errs_7716_min.append(np.mean(es7716[i]) - np.min(es7716[i]))\n",
    "        errs_7716_max.append(np.max(es7716[i]) - np.mean(es7716[i]))\n",
    "        \n",
    "means7716 = np.array(means_7716)\n",
    "errs7716 = np.zeros((2,6))\n",
    "errs7716[0,:] = errs_7716_min\n",
    "errs7716[1,:] = errs_7716_max"
   ]
  },
  {
   "cell_type": "code",
   "execution_count": null,
   "id": "c5339350-ae7f-47ec-b632-48b8fab2db53",
   "metadata": {},
   "outputs": [],
   "source": []
  },
  {
   "cell_type": "code",
   "execution_count": 7,
   "id": "6c8fa6e9-e9fd-4211-afb1-7028117a0131",
   "metadata": {},
   "outputs": [],
   "source": [
    "total_slices = 17878347"
   ]
  },
  {
   "cell_type": "code",
   "execution_count": 8,
   "id": "5bc6cf21-5371-4be3-9a7f-f18c5a8a3d52",
   "metadata": {},
   "outputs": [
    {
     "name": "stderr",
     "output_type": "stream",
     "text": [
      "/tmp/ipykernel_22855/3900409800.py:3: RuntimeWarning: divide by zero encountered in divide\n",
      "  slices_per_sec_mean_7716 = (total_slices * 4)/means7716\n"
     ]
    }
   ],
   "source": [
    "slices_per_sec_mean_1929 = total_slices/means1929\n",
    "slices_per_sec_mean_3858 = (total_slices * 2)/means3858\n",
    "slices_per_sec_mean_7716 = (total_slices * 4)/means7716"
   ]
  },
  {
   "cell_type": "code",
   "execution_count": 9,
   "id": "e83dc562-0db2-4ae6-bfc8-d1088f9aea31",
   "metadata": {},
   "outputs": [
    {
     "name": "stderr",
     "output_type": "stream",
     "text": [
      "/tmp/ipykernel_22855/2681382997.py:12: RuntimeWarning: divide by zero encountered in divide\n",
      "  + (total_slices * 4)/(means_7716 - errs7716[0,:]) - (total_slices * 4)/means7716,\n",
      "/tmp/ipykernel_22855/2681382997.py:12: RuntimeWarning: invalid value encountered in subtract\n",
      "  + (total_slices * 4)/(means_7716 - errs7716[0,:]) - (total_slices * 4)/means7716,\n",
      "/tmp/ipykernel_22855/2681382997.py:13: RuntimeWarning: divide by zero encountered in divide\n",
      "  - (total_slices * 4)/(means_7716 + errs7716[1,:]) + (total_slices * 4)/means7716,\n",
      "/tmp/ipykernel_22855/2681382997.py:13: RuntimeWarning: invalid value encountered in add\n",
      "  - (total_slices * 4)/(means_7716 + errs7716[1,:]) + (total_slices * 4)/means7716,\n"
     ]
    }
   ],
   "source": [
    "slices_per_sec_errs_1929 = np.array([\n",
    "                            + total_slices/(means1929 - errs1929[0,:]) - total_slices/means1929,\n",
    "                            - total_slices/(means1929 + errs1929[1,:]) + total_slices/means1929,\n",
    "                            ])\n",
    "\n",
    "slices_per_sec_errs_3858 = np.array([\n",
    "                            + (total_slices * 2)/(means3858 - errs3858[0,:]) - (total_slices * 2)/means3858,\n",
    "                            - (total_slices * 2)/(means3858 + errs3858[1,:]) + (total_slices * 2)/means3858,\n",
    "                            ])\n",
    "\n",
    "slices_per_sec_errs_7716 = np.array([\n",
    "                            + (total_slices * 4)/(means_7716 - errs7716[0,:]) - (total_slices * 4)/means7716,\n",
    "                            - (total_slices * 4)/(means_7716 + errs7716[1,:]) + (total_slices * 4)/means7716,\n",
    "                            ])"
   ]
  },
  {
   "cell_type": "code",
   "execution_count": 10,
   "id": "68670629-7a3b-4dbb-895a-041a75f560c4",
   "metadata": {},
   "outputs": [],
   "source": [
    "os.chdir(pwd)\n",
    "\n",
    "np.save('slices_per_sec_mean_1929.npy', slices_per_sec_mean_1929)\n",
    "np.save('slices_per_sec_mean_3858.npy', slices_per_sec_mean_3858)\n",
    "np.save('slices_per_sec_mean_7716.npy', slices_per_sec_mean_7716)\n",
    "\n",
    "np.save('slices_per_sec_errs_1929.npy', slices_per_sec_errs_1929)\n",
    "np.save('slices_per_sec_errs_3858.npy', slices_per_sec_errs_3858)\n",
    "np.save('slices_per_sec_errs_7716.npy', slices_per_sec_errs_7716)\n",
    "\n",
    "np.save('means_1929.npy', means_1929)\n",
    "np.save('means_3858.npy', means_3858)\n",
    "np.save('means_7716.npy', means_7716)\n",
    "\n",
    "np.save('errs1929.npy', errs1929)\n",
    "np.save('errs3858.npy', errs3858)\n",
    "np.save('errs7716.npy', errs7716)"
   ]
  },
  {
   "cell_type": "code",
   "execution_count": 11,
   "id": "d2e6dee0-b3e9-43bf-99c7-127074e1bc04",
   "metadata": {},
   "outputs": [
    {
     "data": {
      "text/plain": [
       "'/nashome/s/sasyed/hepnos_plots/ssd_hepnos/servers_one_eigth/16MPI_ranks_per_node'"
      ]
     },
     "execution_count": 11,
     "metadata": {},
     "output_type": "execute_result"
    }
   ],
   "source": [
    "os.getcwd()"
   ]
  },
  {
   "cell_type": "code",
   "execution_count": null,
   "id": "a521ce80-c2b9-4505-b207-ed6ee0206526",
   "metadata": {},
   "outputs": [],
   "source": []
  }
 ],
 "metadata": {
  "kernelspec": {
   "display_name": "Python 3 (ipykernel)",
   "language": "python",
   "name": "python3"
  },
  "language_info": {
   "codemirror_mode": {
    "name": "ipython",
    "version": 3
   },
   "file_extension": ".py",
   "mimetype": "text/x-python",
   "name": "python",
   "nbconvert_exporter": "python",
   "pygments_lexer": "ipython3",
   "version": "3.10.6"
  }
 },
 "nbformat": 4,
 "nbformat_minor": 5
}
