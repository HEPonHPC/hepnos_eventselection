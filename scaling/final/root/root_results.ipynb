{
 "cells": [
  {
   "cell_type": "code",
   "execution_count": 1,
   "id": "b6fa6379-ff06-4d0c-90a6-3c6447730b11",
   "metadata": {},
   "outputs": [],
   "source": [
    "import numpy as np\n",
    "import matplotlib.pyplot as plt"
   ]
  },
  {
   "cell_type": "code",
   "execution_count": 2,
   "id": "d6bc1f2d-68fb-4369-bc9e-9e7990d2a113",
   "metadata": {},
   "outputs": [],
   "source": [
    "#https://stackoverflow.com/a/6402859\n",
    "def get_sec(time_str):\n",
    "    \"\"\"Get seconds from time.\"\"\"\n",
    "    h, m, s = time_str.split(':')\n",
    "    return int(h) * 3600 + int(m) * 60 + int(s)"
   ]
  },
  {
   "cell_type": "code",
   "execution_count": 3,
   "id": "9e9c55c4-08c8-4d8e-a8e3-9973a63a0012",
   "metadata": {},
   "outputs": [],
   "source": [
    "#es_1929\n",
    "\n",
    "f = open('es1929/611672.output')\n",
    "l = f.readlines()\n",
    "f.close()\n",
    "\n",
    "locs = []\n",
    "for i in range(len(l)):\n",
    "    if l[i].split()[1] == 'before':\n",
    "        locs.append(i)    \n",
    "\n",
    "times_16  = []\n",
    "times_32  = []\n",
    "times_64  = []\n",
    "times_128 = []\n",
    "times_256 = []\n",
    "\n",
    "for i in locs:\n",
    "    _time = get_sec(l[i+1].split()[-3]) - get_sec(l[i].split()[-3])\n",
    "    if l[i].split()[4] == '16':\n",
    "        times_16.append(_time)\n",
    "    elif l[i].split()[4] == '32':\n",
    "        times_32.append(_time)\n",
    "    elif l[i].split()[4] == '64':\n",
    "        times_64.append(_time)\n",
    "    elif l[i].split()[4] == '128':\n",
    "        times_128.append(_time)\n",
    "    elif l[i].split()[4] == '256':\n",
    "        times_256.append(_time)\n",
    "\n",
    "means_1929 = np.zeros(6)\n",
    "errs_1929  = np.zeros((2,6))\n",
    "\n",
    "# 8 node run, 5_18_600136\n",
    "means_1929[0] = get_sec(\"16:46:25\") - get_sec(\"16:39:55\") \n",
    "errs_1929[:,0] = [0,0]\n",
    "\n",
    "for i in range(1,6):\n",
    "    if i == 1:\n",
    "        means_1929[i]  = np.mean(times_16)\n",
    "        errs_1929[0,i] = means_1929[i] - np.min(times_16)\n",
    "        errs_1929[1,i] = np.max(times_16) - means_1929[i] \n",
    "    elif i == 2:\n",
    "        means_1929[i] = np.mean(times_32)\n",
    "        errs_1929[0,i] = means_1929[i] - np.min(times_32)\n",
    "        errs_1929[1,i] = np.max(times_32) - means_1929[i]\n",
    "    elif i == 3:\n",
    "        means_1929[i] = np.mean(times_64)\n",
    "        errs_1929[0,i] = means_1929[i] - np.min(times_64)\n",
    "        errs_1929[1,i] = np.max(times_64) - means_1929[i]\n",
    "    elif i == 4:\n",
    "        means_1929[i] = np.mean(times_128)\n",
    "        errs_1929[0,i] = means_1929[i] - np.min(times_128)\n",
    "        errs_1929[1,i] = np.max(times_128) - means_1929[i]\n",
    "    elif i == 5:\n",
    "        means_1929[i] = np.mean(times_256)\n",
    "        errs_1929[0,i] = means_1929[i] - np.min(times_256)\n",
    "        errs_1929[1,i] = np.max(times_256) - means_1929[i]"
   ]
  },
  {
   "cell_type": "code",
   "execution_count": 4,
   "id": "a2768633-1d3c-4aa5-bd9c-117c8c9a0fee",
   "metadata": {},
   "outputs": [
    {
     "data": {
      "text/plain": [
       "array([390. , 215.6, 131.2,  90.6,  78.2,  16.6])"
      ]
     },
     "execution_count": 4,
     "metadata": {},
     "output_type": "execute_result"
    }
   ],
   "source": [
    "means_1929"
   ]
  },
  {
   "cell_type": "code",
   "execution_count": 5,
   "id": "2a873f0a-0731-4b0c-aca9-594c96cee829",
   "metadata": {},
   "outputs": [
    {
     "data": {
      "text/plain": [
       "[17, 16, 17, 17, 16]"
      ]
     },
     "execution_count": 5,
     "metadata": {},
     "output_type": "execute_result"
    }
   ],
   "source": [
    "times_256"
   ]
  },
  {
   "cell_type": "code",
   "execution_count": 6,
   "id": "237a9a58-9cd3-4e48-b50a-0c1ce233365a",
   "metadata": {},
   "outputs": [],
   "source": [
    "#es_3858\n",
    "\n",
    "f = open('es3858/612072.output')\n",
    "l = f.readlines()\n",
    "f.close()\n",
    "\n",
    "locs = []\n",
    "for i in range(len(l)):\n",
    "    if l[i].split()[1] == 'before':\n",
    "        locs.append(i)    \n",
    "\n",
    "times_16  = []\n",
    "times_32  = []\n",
    "times_64  = []\n",
    "times_128 = []\n",
    "times_256 = []\n",
    "\n",
    "\n",
    "for i in locs:\n",
    "    _time = get_sec(l[i+1].split()[-3]) - get_sec(l[i].split()[-3])\n",
    "    if l[i].split()[4] == '16':\n",
    "        times_16.append(_time)\n",
    "    elif l[i].split()[4] == '32':\n",
    "        times_32.append(_time)\n",
    "    elif l[i].split()[4] == '64':\n",
    "        times_64.append(_time)\n",
    "    elif l[i].split()[4] == '128':\n",
    "        times_128.append(_time)\n",
    "    elif l[i].split()[4] == '256':\n",
    "        times_256.append(_time)\n",
    "\n",
    "means_3858 = np.zeros(6)\n",
    "errs_3858  = np.zeros((2,6))\n",
    "\n",
    "# 8 node run, 5_18_600135\n",
    "means_3858[0] = get_sec(\"16:37:25\") - get_sec(\"16:26:06\") \n",
    "errs_3858[:,0] = [0,0]\n",
    "\n",
    "for i in range(1,6):\n",
    "    if i == 1:\n",
    "        means_3858[i]  = np.mean(times_16)\n",
    "        errs_3858[0,i] = means_3858[i] - np.min(times_16)\n",
    "        errs_3858[1,i] = np.max(times_16) - means_3858[i] \n",
    "    elif i == 2:\n",
    "        means_3858[i] = np.mean(times_32)\n",
    "        errs_3858[0,i] = means_3858[i] - np.min(times_32)\n",
    "        errs_3858[1,i] = np.max(times_32) - means_3858[i]\n",
    "    elif i == 3:\n",
    "        means_3858[i] = np.mean(times_64)\n",
    "        errs_3858[0,i] = means_3858[i] - np.min(times_64)\n",
    "        errs_3858[1,i] = np.max(times_64) - means_3858[i]\n",
    "    elif i == 4:\n",
    "        means_3858[i] = np.mean(times_128)\n",
    "        errs_3858[0,i] = means_3858[i] - np.min(times_128)\n",
    "        errs_3858[1,i] = np.max(times_128) - means_3858[i]\n",
    "    elif i == 5:\n",
    "        means_3858[i] = np.mean(times_256)\n",
    "        errs_3858[0,i] = means_3858[i] - np.min(times_256)\n",
    "        errs_3858[1,i] = np.max(times_256) - means_3858[i]"
   ]
  },
  {
   "cell_type": "code",
   "execution_count": 7,
   "id": "aed7ca35-89ed-4863-921c-66ff5ce53488",
   "metadata": {},
   "outputs": [
    {
     "data": {
      "text/plain": [
       "array([[ 0. ,  3.2,  5.4,  2.4,  2.6,  7. ],\n",
       "       [ 0. ,  4.8,  3.6,  1.6,  3.4, 11. ]])"
      ]
     },
     "execution_count": 7,
     "metadata": {},
     "output_type": "execute_result"
    }
   ],
   "source": [
    "errs_3858"
   ]
  },
  {
   "cell_type": "code",
   "execution_count": 8,
   "id": "da90fb2a-664a-43b8-9e4a-bca5a5c4c534",
   "metadata": {},
   "outputs": [],
   "source": [
    "#es_7716\n",
    "\n",
    "f = open('es7716/613052.output')\n",
    "l = f.readlines()\n",
    "f.close()\n",
    "\n",
    "locs = []\n",
    "for i in range(len(l)):\n",
    "    if l[i].split()[1] == 'before':\n",
    "        locs.append(i)\n",
    "        \n",
    "locs = locs[:-1]\n",
    "        \n",
    "times_16  = []\n",
    "times_32  = []\n",
    "times_64  = []\n",
    "times_128 = []\n",
    "times_256 = []\n",
    "\n",
    "for i in locs:\n",
    "    _time = get_sec(l[i+1].split()[-3]) - get_sec(l[i].split()[-3])\n",
    "    if l[i].split()[4] == '16':\n",
    "        times_16.append(_time)\n",
    "    elif l[i].split()[4] == '32':\n",
    "        times_32.append(_time)\n",
    "    elif l[i].split()[4] == '64':\n",
    "        times_64.append(_time)\n",
    "    elif l[i].split()[4] == '128':\n",
    "        times_128.append(_time)\n",
    "    elif l[i].split()[4] == '256':\n",
    "        times_256.append(_time)\n",
    "\n",
    "\n",
    "means_7716 = np.zeros(6)\n",
    "errs_7716  = np.zeros((2,6))\n",
    "\n",
    "# 8 node run, 5_18_600114\n",
    "means_7716[0] = get_sec(\"14:52:03\") - get_sec(\"14:31:03\") \n",
    "errs_7716[:,0] = [0,0]\n",
    "\n",
    "for i in range(1,6):\n",
    "    if i == 1:\n",
    "        means_7716[i]  = np.mean(times_16)\n",
    "        errs_7716[0,i] = means_7716[i] - np.min(times_16)\n",
    "        errs_7716[1,i] = np.max(times_16) - means_7716[i] \n",
    "    elif i == 2:\n",
    "        means_7716[i] = np.mean(times_32)\n",
    "        errs_7716[0,i] = means_7716[i] - np.min(times_32)\n",
    "        errs_7716[1,i] = np.max(times_32) - means_7716[i]\n",
    "    elif i == 3:\n",
    "        means_7716[i] = np.mean(times_64)\n",
    "        errs_7716[0,i] = means_7716[i] - np.min(times_64)\n",
    "        errs_7716[1,i] = np.max(times_64) - means_7716[i]\n",
    "    elif i == 4:\n",
    "        means_7716[i] = np.mean(times_128)\n",
    "        errs_7716[0,i] = means_7716[i] - np.min(times_128)\n",
    "        errs_7716[1,i] = np.max(times_128) - means_7716[i]\n",
    "    elif i == 5:\n",
    "        means_7716[i] = np.mean(times_128)\n",
    "        errs_7716[0,i] = means_7716[i] - np.min(times_256)\n",
    "        errs_7716[1,i] = np.max(times_256) - means_7716[i]\n"
   ]
  },
  {
   "cell_type": "code",
   "execution_count": 9,
   "id": "b5829822-a8f2-4662-b78c-bd19689589e1",
   "metadata": {},
   "outputs": [],
   "source": [
    "total_slices = 17878347"
   ]
  },
  {
   "cell_type": "code",
   "execution_count": 10,
   "id": "020b259b-7d94-4cbc-9bb6-79c0422bec1d",
   "metadata": {},
   "outputs": [],
   "source": [
    "slices_per_sec_mean_1929 = total_slices/means_1929\n",
    "slices_per_sec_mean_3858 = (total_slices * 2)/means_3858\n",
    "slices_per_sec_mean_7716 = (total_slices * 4)/means_7716"
   ]
  },
  {
   "cell_type": "code",
   "execution_count": 11,
   "id": "68733f15-6055-4dc7-9798-54ad4061131f",
   "metadata": {},
   "outputs": [],
   "source": [
    "slices_per_sec_errs_1929 = np.array([\n",
    "                            + total_slices/(means_1929 - errs_1929[0,:]) - total_slices/means_1929,\n",
    "                            - total_slices/(means_1929 + errs_1929[1,:]) + total_slices/means_1929,\n",
    "                            ])\n",
    "\n",
    "slices_per_sec_errs_3858 = np.array([\n",
    "                            + (total_slices * 2)/(means_3858 - errs_3858[0,:]) - (total_slices * 2)/means_3858,\n",
    "                            - (total_slices * 2)/(means_3858 + errs_3858[1,:]) + (total_slices * 2)/means_3858,\n",
    "                            ])\n",
    "\n",
    "slices_per_sec_errs_7716 = np.array([\n",
    "                            + (total_slices * 4)/(means_7716 - errs_7716[0,:]) - (total_slices * 4)/means_7716,\n",
    "                            - (total_slices * 4)/(means_7716 + errs_7716[1,:]) + (total_slices * 4)/means_7716,\n",
    "                            ])"
   ]
  },
  {
   "cell_type": "code",
   "execution_count": 12,
   "id": "0c8fe59f-36da-4c8d-b6ad-3b6398844360",
   "metadata": {},
   "outputs": [],
   "source": [
    "np.save('root_slices_per_sec_mean_1929.npy', slices_per_sec_mean_1929)\n",
    "np.save('root_slices_per_sec_mean_3858.npy', slices_per_sec_mean_3858)\n",
    "np.save('root_slices_per_sec_mean_7716.npy', slices_per_sec_mean_7716)\n",
    "\n",
    "np.save('root_slices_per_sec_errs_1929.npy', slices_per_sec_errs_1929)\n",
    "np.save('root_slices_per_sec_errs_3858.npy', slices_per_sec_errs_3858)\n",
    "np.save('root_slices_per_sec_errs_7716.npy', slices_per_sec_errs_7716)"
   ]
  },
  {
   "cell_type": "code",
   "execution_count": 13,
   "id": "7a62471b-9226-4d60-850d-91174ca2dc86",
   "metadata": {},
   "outputs": [],
   "source": [
    "np.save('root_es1929_mean.npy', means_1929)\n",
    "np.save('root_es3858_mean.npy', means_3858)\n",
    "np.save('root_es7716_mean.npy', means_7716)\n",
    "\n",
    "np.save('root_es1929_errs.npy', errs_1929)\n",
    "np.save('root_es3858_errs.npy', errs_3858)\n",
    "np.save('root_es7716_errs.npy', errs_7716)"
   ]
  },
  {
   "cell_type": "code",
   "execution_count": null,
   "id": "7aedb8f4-dc46-430f-b30e-d7acd93dcfaa",
   "metadata": {},
   "outputs": [],
   "source": []
  }
 ],
 "metadata": {
  "kernelspec": {
   "display_name": "Python 3 (ipykernel)",
   "language": "python",
   "name": "python3"
  },
  "language_info": {
   "codemirror_mode": {
    "name": "ipython",
    "version": 3
   },
   "file_extension": ".py",
   "mimetype": "text/x-python",
   "name": "python",
   "nbconvert_exporter": "python",
   "pygments_lexer": "ipython3",
   "version": "3.10.6"
  }
 },
 "nbformat": 4,
 "nbformat_minor": 5
}
