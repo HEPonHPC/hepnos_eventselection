{
 "cells": [
  {
   "cell_type": "code",
   "execution_count": 1,
   "id": "b6fa6379-ff06-4d0c-90a6-3c6447730b11",
   "metadata": {},
   "outputs": [],
   "source": [
    "import numpy as np\n",
    "import matplotlib.pyplot as plt"
   ]
  },
  {
   "cell_type": "code",
   "execution_count": 2,
   "id": "d6bc1f2d-68fb-4369-bc9e-9e7990d2a113",
   "metadata": {},
   "outputs": [],
   "source": [
    "#https://stackoverflow.com/a/6402859\n",
    "def get_sec(time_str):\n",
    "    \"\"\"Get seconds from time.\"\"\"\n",
    "    h, m, s = time_str.split(':')\n",
    "    return int(h) * 3600 + int(m) * 60 + int(s)"
   ]
  },
  {
   "cell_type": "code",
   "execution_count": 3,
   "id": "237a9a58-9cd3-4e48-b50a-0c1ce233365a",
   "metadata": {},
   "outputs": [],
   "source": [
    "f = open('596866.output')\n",
    "l = f.readlines()\n",
    "f.close()\n",
    "\n",
    "locs = []\n",
    "for i in range(len(l)):\n",
    "    if l[i].split()[1] == 'before':\n",
    "        locs.append(i)    "
   ]
  },
  {
   "cell_type": "code",
   "execution_count": 4,
   "id": "7b4ce595-4aea-45a3-bab8-45a2fa2e1658",
   "metadata": {},
   "outputs": [],
   "source": [
    "times_16  = []\n",
    "times_32  = []\n",
    "times_64  = []\n",
    "times_128 = []\n",
    "\n",
    "for i in locs:\n",
    "    _time = get_sec(l[i+1].split()[-3]) - get_sec(l[i].split()[-3])\n",
    "    if l[i].split()[4] == '16':\n",
    "        times_16.append(_time)\n",
    "    elif l[i].split()[4] == '32':\n",
    "        times_32.append(_time)\n",
    "    elif l[i].split()[4] == '64':\n",
    "        times_64.append(_time)\n",
    "    elif l[i].split()[4] == '128':\n",
    "        times_128.append(_time)"
   ]
  },
  {
   "cell_type": "code",
   "execution_count": 5,
   "id": "7a62471b-9226-4d60-850d-91174ca2dc86",
   "metadata": {},
   "outputs": [],
   "source": [
    "means = np.zeros(4)\n",
    "errs  = np.zeros((2,4))\n",
    "\n",
    "for i in range(4):\n",
    "    if i == 0:\n",
    "        means[i]  = np.mean(times_16)\n",
    "        errs[0,i] = means[i] - np.min(times_16)\n",
    "        errs[1,i] = np.max(times_16) - means[i] \n",
    "    elif i == 1:\n",
    "        means[i] = np.mean(times_32)\n",
    "        errs[0,i] = means[i] - np.min(times_32)\n",
    "        errs[1,i] = np.max(times_32) - means[i]\n",
    "    elif i == 2:\n",
    "        means[i] = np.mean(times_64)\n",
    "        errs[0,i] = means[i] - np.min(times_64)\n",
    "        errs[1,i] = np.max(times_64) - means[i]\n",
    "    elif i == 3:\n",
    "        means[i] = np.mean(times_128)\n",
    "        errs[0,i] = means[i] - np.min(times_128)\n",
    "        errs[1,i] = np.max(times_128) - means[i]"
   ]
  },
  {
   "cell_type": "code",
   "execution_count": 6,
   "id": "63e8096a-0a28-4f4f-9061-66a724a38645",
   "metadata": {},
   "outputs": [],
   "source": [
    "np.save('root_mean_times.npy', means)\n",
    "np.save('root_errs_times.npy', errs)"
   ]
  },
  {
   "cell_type": "code",
   "execution_count": 7,
   "id": "4b69602d-aa59-4a64-93eb-695a31cf2451",
   "metadata": {},
   "outputs": [
    {
     "data": {
      "text/plain": [
       "[161, 127, 138, 231, 199]"
      ]
     },
     "execution_count": 7,
     "metadata": {},
     "output_type": "execute_result"
    }
   ],
   "source": [
    "times_128"
   ]
  },
  {
   "cell_type": "code",
   "execution_count": 8,
   "id": "234888d9-b2e6-4aa3-b268-e44343225c53",
   "metadata": {},
   "outputs": [
    {
     "data": {
      "text/plain": [
       "[132, 142, 125, 143, 131]"
      ]
     },
     "execution_count": 8,
     "metadata": {},
     "output_type": "execute_result"
    }
   ],
   "source": [
    "times_64"
   ]
  },
  {
   "cell_type": "code",
   "execution_count": null,
   "id": "1305951e-66fc-4ce4-a067-3cd588d18a06",
   "metadata": {},
   "outputs": [],
   "source": []
  }
 ],
 "metadata": {
  "kernelspec": {
   "display_name": "Python 3 (ipykernel)",
   "language": "python",
   "name": "python3"
  },
  "language_info": {
   "codemirror_mode": {
    "name": "ipython",
    "version": 3
   },
   "file_extension": ".py",
   "mimetype": "text/x-python",
   "name": "python",
   "nbconvert_exporter": "python",
   "pygments_lexer": "ipython3",
   "version": "3.10.4"
  }
 },
 "nbformat": 4,
 "nbformat_minor": 5
}
