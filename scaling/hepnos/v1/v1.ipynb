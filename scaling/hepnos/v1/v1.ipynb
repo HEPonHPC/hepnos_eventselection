{
 "cells": [
  {
   "cell_type": "code",
   "execution_count": 1,
   "id": "a4e8b67f-745e-45a5-894b-0daa2d24b8bd",
   "metadata": {},
   "outputs": [],
   "source": [
    "import numpy as np\n",
    "import matplotlib.pyplot as plt\n",
    "import matplotlib as mpl"
   ]
  },
  {
   "cell_type": "code",
   "execution_count": 2,
   "id": "e3cb2a16-5209-4ee8-bdfd-a7a137dd4912",
   "metadata": {},
   "outputs": [],
   "source": [
    "_es1929 = []\n",
    "_es3858 = []\n",
    "_es7716 = []"
   ]
  },
  {
   "cell_type": "code",
   "execution_count": 3,
   "id": "aaf4b071-a2be-4d90-8cc2-ef5ade2af1ea",
   "metadata": {},
   "outputs": [],
   "source": [
    "#4_8_593191\n",
    "_es1929.append([88.80783, 44.90772, 25.05399, 26.387159999999998])\n",
    "_es1929.append([88.69608])\n",
    "\n",
    "#4_10_593374\n",
    "_es1929.append([88.62056, 45.2519, 25.38066])\n",
    "\n",
    "#4_12_594053\n",
    "_es1929.append([89.19849, 46.60324, 25.25175, 24.857509999999998])\n",
    "_es1929.append([88.81643])\n",
    "\n",
    "#4_13_594292\n",
    "_es1929.append([89.27185, 44.80152, 25.15494])"
   ]
  },
  {
   "cell_type": "code",
   "execution_count": 4,
   "id": "368c17a6-c2d8-4c74-ade9-cc70c6d9293b",
   "metadata": {},
   "outputs": [],
   "source": [
    "es1929 = [[],[],[],[],[]]\n",
    "\n",
    "es1929[0].append(186.25179)\n",
    "\n",
    "for i in _es1929:\n",
    "    if len(i)>0:\n",
    "        es1929[1].append(i[0])\n",
    "    if len(i)>1:\n",
    "        es1929[2].append(i[1])\n",
    "    if len(i)>2:\n",
    "        es1929[3].append(i[2])\n",
    "    if len(i)>3:\n",
    "        es1929[4].append(i[3])"
   ]
  },
  {
   "cell_type": "code",
   "execution_count": 5,
   "id": "722523d9-1099-4b0a-943d-df8943fbe1ca",
   "metadata": {},
   "outputs": [],
   "source": [
    "#4_19_595468\n",
    "_es3858.append([176.65601, 89.03165, 46.868210000000005])\n",
    "\n",
    "#4_25_596560\n",
    "_es3858.append([176.17033, 86.49095, 47.4182, 48.24324])\n",
    "_es3858.append([176.047,   86.72812, 49.294900000000005, 68.8478])\n",
    "_es3858.append([176.15988, 86.96383, 53.387299999999996, 76.5597])\n",
    "_es3858.append([176.48698, 87.55602, 57.911500000000004, 97.31369999999998])\n",
    "_es3858.append([176.37546, 88.9162])"
   ]
  },
  {
   "cell_type": "code",
   "execution_count": 6,
   "id": "cc112066-bbdd-4b4e-900b-255340611d29",
   "metadata": {},
   "outputs": [],
   "source": [
    "es3858 = [[],[],[],[],[]]\n",
    "\n",
    "es3858[0].append(374.29184999999995)\n",
    "\n",
    "for i in _es3858:\n",
    "    if len(i)>0:\n",
    "        es3858[1].append(i[0])\n",
    "    if len(i)>1:\n",
    "        es3858[2].append(i[1])\n",
    "    if len(i)>2:\n",
    "        es3858[3].append(i[2])\n",
    "    if len(i)>3:\n",
    "        es3858[4].append(i[3])"
   ]
  },
  {
   "cell_type": "code",
   "execution_count": 7,
   "id": "7e5b7f52-5da0-40e8-b0cf-e29b6d496485",
   "metadata": {},
   "outputs": [],
   "source": [
    "#4_20_595716\n",
    "_es7716.append([352.14015, 173.36112, 91.97684])"
   ]
  },
  {
   "cell_type": "code",
   "execution_count": 8,
   "id": "9b54a338-3195-4766-b2f8-439c0679cdf5",
   "metadata": {},
   "outputs": [],
   "source": [
    "es7716 = [[],[],[],[],[]]\n",
    "\n",
    "es7716[0].append(752.8713)\n",
    "\n",
    "for i in _es7716:\n",
    "    if len(i)>0:\n",
    "        es7716[1].append(i[0])\n",
    "    if len(i)>1:\n",
    "        es7716[2].append(i[1])\n",
    "    if len(i)>2:\n",
    "        es7716[3].append(i[2])\n",
    "    if len(i)>3:\n",
    "        es7716[4].append(i[3])"
   ]
  },
  {
   "cell_type": "code",
   "execution_count": 9,
   "id": "d69de075-489e-4d11-a836-c6014b687c9d",
   "metadata": {},
   "outputs": [],
   "source": [
    "means_1929 = []\n",
    "errs_1929_min  = []\n",
    "errs_1929_max  = []\n",
    "\n",
    "for i in range(5):\n",
    "    means_1929.append(np.mean(es1929[i]))\n",
    "    if len(es1929[i])<=1:\n",
    "        errs_1929_min.append(0)\n",
    "        errs_1929_max.append(0)\n",
    "    else:\n",
    "        errs_1929_min.append(np.mean(es1929[i]) - np.min(es1929[i]))\n",
    "        errs_1929_max.append(np.max(es1929[i]) - np.mean(es1929[i]))\n",
    "        \n",
    "means1929 = np.array(means_1929)\n",
    "errs1929 = np.zeros((2,5))\n",
    "errs1929[0,:] = errs_1929_min\n",
    "errs1929[1,:] = errs_1929_max"
   ]
  },
  {
   "cell_type": "code",
   "execution_count": 10,
   "id": "be2e71b5-3601-49d8-8fba-e5983e7dba27",
   "metadata": {},
   "outputs": [],
   "source": [
    "means_3858 = []\n",
    "errs_3858_min  = []\n",
    "errs_3858_max  = []\n",
    "\n",
    "for i in range(5):\n",
    "    means_3858.append(np.mean(es3858[i]))\n",
    "    if len(es3858[i])<=1:\n",
    "        errs_3858_min.append(0)\n",
    "        errs_3858_max.append(0)\n",
    "    else:\n",
    "        errs_3858_min.append(np.mean(es3858[i]) - np.min(es3858[i]))\n",
    "        errs_3858_max.append(np.max(es3858[i]) - np.mean(es3858[i]))\n",
    "        \n",
    "means3858 = np.array(means_3858)\n",
    "errs3858 = np.zeros((2,5))\n",
    "errs3858[0,:] = errs_3858_min\n",
    "errs3858[1,:] = errs_3858_max"
   ]
  },
  {
   "cell_type": "code",
   "execution_count": 11,
   "id": "2a0e7b04-885b-4a6b-a7e1-94e51e3c2bda",
   "metadata": {},
   "outputs": [
    {
     "name": "stderr",
     "output_type": "stream",
     "text": [
      "/home/sajid/micromamba/envs/py3/lib/python3.10/site-packages/numpy/core/fromnumeric.py:3474: RuntimeWarning: Mean of empty slice.\n",
      "  return _methods._mean(a, axis=axis, dtype=dtype,\n",
      "/home/sajid/micromamba/envs/py3/lib/python3.10/site-packages/numpy/core/_methods.py:189: RuntimeWarning: invalid value encountered in double_scalars\n",
      "  ret = ret.dtype.type(ret / rcount)\n"
     ]
    }
   ],
   "source": [
    "means_7716 = []\n",
    "errs_7716_min  = []\n",
    "errs_7716_max  = []\n",
    "\n",
    "for i in range(5):\n",
    "    means_7716.append(np.mean(es7716[i]))\n",
    "    if len(es7716[i])<=1:\n",
    "        errs_7716_min.append(0)\n",
    "        errs_7716_max.append(0)\n",
    "    else:\n",
    "        errs_7716_min.append(np.mean(es7716[i]) - np.min(es7716[i]))\n",
    "        errs_7716_max.append(np.max(es7716[i]) - np.mean(es7716[i]))\n",
    "        \n",
    "means7716 = np.array(means_7716)\n",
    "errs7716 = np.zeros((2,5))\n",
    "errs7716[0,:] = errs_7716_min\n",
    "errs7716[1,:] = errs_7716_max"
   ]
  },
  {
   "cell_type": "code",
   "execution_count": 12,
   "id": "2305ec25-b677-4422-a823-fb5ed13d79a6",
   "metadata": {},
   "outputs": [],
   "source": [
    "np.save('means_1929.npy', means_1929)\n",
    "np.save('means_3858.npy', means_3858)\n",
    "np.save('means_7716.npy', means_7716)\n",
    "\n",
    "np.save('errs1929.npy', errs1929)\n",
    "np.save('errs3858.npy', errs3858)\n",
    "np.save('errs7716.npy', errs7716)"
   ]
  },
  {
   "cell_type": "code",
   "execution_count": null,
   "id": "c286e616-0b08-4187-a8b2-479fb755a607",
   "metadata": {},
   "outputs": [],
   "source": []
  }
 ],
 "metadata": {
  "kernelspec": {
   "display_name": "Python 3 (ipykernel)",
   "language": "python",
   "name": "python3"
  },
  "language_info": {
   "codemirror_mode": {
    "name": "ipython",
    "version": 3
   },
   "file_extension": ".py",
   "mimetype": "text/x-python",
   "name": "python",
   "nbconvert_exporter": "python",
   "pygments_lexer": "ipython3",
   "version": "3.10.4"
  }
 },
 "nbformat": 4,
 "nbformat_minor": 5
}
